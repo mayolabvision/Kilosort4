{
 "cells": [
  {
   "cell_type": "code",
   "execution_count": 7,
   "id": "50d194cc-9e79-4fcb-a1d7-6601cc5edc3b",
   "metadata": {},
   "outputs": [],
   "source": [
    "from pathlib import Path\n",
    "import numpy as np\n",
    "import pandas as pd\n",
    "import matplotlib.pyplot as plt\n",
    "from scipy.ndimage import gaussian_filter1d\n",
    "from kilosort.io import load_ops\n",
    "from kilosort.data_tools import (\n",
    "    mean_waveform, cluster_templates, get_good_cluster, get_cluster_spikes, mean_waveform_with_bounds,\n",
    "    get_spike_waveforms, get_best_channels\n",
    "    )\n",
    "\n",
    "from spikeinterface.extractors import read_phy\n",
    "\n",
    "def make_cluster_summary_table(results_dir):\n",
    "    \"\"\"\n",
    "    Load summary information from a Kilosort4 results directory and save it as a CSV.\n",
    "\n",
    "    Parameters:\n",
    "        results_dir (str or Path): Path to the Kilosort4 output directory.\n",
    "\n",
    "    Returns:\n",
    "        pd.DataFrame: Summary dataframe with cluster metadata.\n",
    "    \"\"\"\n",
    "    results_dir = Path(results_dir)\n",
    "    ops = load_ops(results_dir / 'ops.npy')\n",
    "\n",
    "    fs = ops['fs']\n",
    "    chan_map = np.load(results_dir / 'channel_map.npy')\n",
    "    templates = np.load(results_dir / 'templates.npy')\n",
    "    chan_best = (templates**2).sum(axis=1).argmax(axis=-1)\n",
    "    chan_best = chan_map[chan_best]\n",
    "\n",
    "    template_amplitudes = np.sqrt((templates**2).sum(axis=(-2, -1)))\n",
    "    st = np.load(results_dir / 'spike_times.npy')\n",
    "    clu = np.load(results_dir / 'spike_clusters.npy')\n",
    "    pos = np.load(results_dir / 'spike_positions.npy')\n",
    "\n",
    "    cluster_ids, spike_counts = np.unique(clu, return_counts=True)\n",
    "    firing_rates = spike_counts * fs / st.max()\n",
    "\n",
    "    depth = np.array([\n",
    "        pos[clu == i, 1].mean() if np.any(clu == i) else np.nan\n",
    "        for i in cluster_ids\n",
    "    ])\n",
    "\n",
    "    df = pd.DataFrame.from_dict({\n",
    "        'cluster': cluster_ids,\n",
    "        'chan': chan_best,\n",
    "        'depth': depth,\n",
    "        'fr': firing_rates,\n",
    "        'amp': template_amplitudes,\n",
    "        'n_spikes': spike_counts\n",
    "    }).set_index('cluster')\n",
    "\n",
    "    # Save to CSV\n",
    "    csv_path = results_dir / 'cluster_summary.csv'\n",
    "    df.to_csv(csv_path)\n",
    "\n",
    "    print(f\"Saved cluster summary to: {csv_path}\")\n",
    "\n",
    "\n",
    "def plot_cluster_waveforms(results_dir,save_path=False):\n",
    "    results_dir = Path(results_dir)\n",
    "\n",
    "    ops = load_ops(results_dir / 'ops.npy')\n",
    "    t = (np.arange(ops['nt']) / ops['fs']) * 1000\n",
    "\n",
    "    all_spike_times = np.load(results_dir / 'spike_times.npy')\n",
    "\n",
    "    # Pick a random good cluster, get its mean waveform and mean template\n",
    "    cluster_id = get_good_cluster(results_dir, n=1)\n",
    "    mean_wv, lower_bnd, upper_bnd, spike_subset = mean_waveform_with_bounds(cluster_id, results_dir, n_spikes=1000, bfile=None, best=True)\n",
    "    mean_temp = cluster_templates(cluster_id, results_dir, mean=True, best=True, spike_subset=spike_subset)\n",
    "\n",
    "    spike_times, _ = get_cluster_spikes(cluster_id, results_dir, n_spikes=1000)\n",
    "    t2 = (spike_times / ops['fs'])\n",
    "    t3 = t2 / 60\n",
    "    chan = get_best_channels(results_dir)[cluster_id]\n",
    "    waves = get_spike_waveforms(spike_times, results_dir, chan=chan)\n",
    "\n",
    "    scores = np.zeros(waves.shape[1])\n",
    "    times = np.zeros(waves.shape[1])\n",
    "    for i in range(waves.shape[1]):\n",
    "        times[i] = t3[i]\n",
    "        scores[i] = wave_diff(waves[:, i],mean_wv)\n",
    "\n",
    "    #############################################\n",
    "    fig, ax = plt.subplots(1, 1)\n",
    "    \n",
    "    ax.fill_between(t, lower_bnd, upper_bnd, color='gray', alpha=0.25, label='±1 STD')\n",
    "    ax.plot(t, mean_wv, c='black', linestyle='dashed', linewidth=2, label='waveform')\n",
    "    ax.plot(t, mean_temp, linewidth=2, label='template')\n",
    "    ax.set_title(f'Mean single-channel template and spike waveform for cluster {cluster_id}')\n",
    "    ax.set_xlabel('Time (ms)')\n",
    "    ax.set_ylabel('Voltage (µV)')\n",
    "    ax.legend()\n",
    "    plt.tight_layout()\n",
    "    plt.show()\n",
    "    \n",
    "    #############################################\n",
    "\n",
    "    fig2, ax2 = plt.subplots(1,1,figsize=(6,6))\n",
    "    pos = ax2.imshow(waves.T, aspect='auto', extent=[t[0], t[-1], t3[0], t3[-1]]);\n",
    "\n",
    "    cbar = fig2.colorbar(pos, ax=ax2)\n",
    "    cbar.set_label('Voltage (µV)')  # Change to the appropriate unit if needed\n",
    "    ax2.set_xlabel('Time (ms)');\n",
    "    ax2.set_ylabel('Spike time (min)');\n",
    "\n",
    "    #############################################\n",
    "\n",
    "    fig3, ax3 = plt.subplots(1, 1, figsize=(8, 4))\n",
    "    ax3.plot(times, gaussian_filter1d(scores, sigma=3), linestyle='-', color='black')  # Smoothed line\n",
    "    ax3.axhline(y=0, linestyle='--', color='gray', linewidth=1)    # Dashed line at y=0\n",
    "    ax3.set_xlabel('Spike Time (min)')\n",
    "    ax3.set_ylabel('MSE (µV²)')\n",
    "    ax3.set_title('Mean Squared Error Between Mean and Single-Spike Waveforms Over Time')\n",
    "    plt.tight_layout()\n",
    "    plt.show()\n",
    "\n",
    "    #############################################\n",
    "\n",
    "def wave_diff(a, b):\n",
    "    a = np.asarray(a)\n",
    "    b = np.asarray(b)\n",
    "    mse = np.mean((a - b) ** 2)\n",
    "    return mse  # Lower means more similar\n"
   ]
  },
  {
   "cell_type": "code",
   "execution_count": 10,
   "id": "d42c4436-4bbb-45a6-9724-23de44197dd1",
   "metadata": {},
   "outputs": [],
   "source": [
    "results_dir = '/ix1/pmayo/lab_NHPdata/kendra_scrappy_0142a_g0/kendra_scrappy_0142a_g0_imec0/kilosort4_unleashed'\n",
    "\n",
    "plot_cluster_waveforms(results_dir)"
   ]
  },
  {
   "cell_type": "code",
   "execution_count": 21,
   "id": "daafc7ef-3e26-400a-bdbf-7721d0b371df",
   "metadata": {},
   "outputs": [
    {
     "data": {
      "application/vnd.jupyter.widget-view+json": {
       "model_id": "b54c2c13c3bf42279d7737e141afdba4",
       "version_major": 2,
       "version_minor": 0
      },
      "text/plain": [
       "estimate_sparsity (no parallelization):   0%|          | 0/7046 [00:00<?, ?it/s]"
      ]
     },
     "metadata": {},
     "output_type": "display_data"
    },
    {
     "name": "stdout",
     "output_type": "stream",
     "text": [
      "SortingAnalyzer: 202 channels - 303 units - 1 segments - memory - sparse - has recording\n",
      "Loaded 0 extensions\n"
     ]
    },
    {
     "name": "stderr",
     "output_type": "stream",
     "text": [
      "/ihome/pmayo/knoneman/.conda/envs/kilosort/lib/python3.10/site-packages/spikeinterface/core/sortinganalyzer.py:300: UserWarning: Sorting and Recording have a small difference in sampling frequency. This could be due to rounding of floats. Using the sampling frequency from the Recording.\n",
      "  warnings.warn(\n"
     ]
    }
   ],
   "source": [
    "import spikeinterface.full as si\n",
    "\n",
    "spikeglx_folder = Path(results_dir).parent\n",
    "\n",
    "stream_names, stream_ids = si.get_neo_streams('spikeglx', spikeglx_folder)\n",
    "\n",
    "stream_names = ['imec0.ap','imec1.ap','imec0.lf','imec1.lf']\n",
    "ap_stream_name = next(name for name in stream_names if 'ap' in name)\n",
    "recording = si.read_spikeglx(spikeglx_folder.parent, stream_name=ap_stream_name, load_sync_channel=False)\n",
    "\n",
    "sorting = read_phy(results_dir)\n",
    "\n",
    "analyzer = si.create_sorting_analyzer(sorting=sorting, recording=recording, format=\"memory\")\n",
    "print(analyzer)"
   ]
  },
  {
   "cell_type": "code",
   "execution_count": 40,
   "id": "5dce4ab6-260c-4045-9ef6-5ded8d1853bc",
   "metadata": {},
   "outputs": [
    {
     "data": {
      "application/vnd.jupyter.widget-view+json": {
       "model_id": "6ec101d64e7343efacd962bfa307f4ae",
       "version_major": 2,
       "version_minor": 0
      },
      "text/plain": [
       "compute_waveforms (workers: 40 processes):   0%|          | 0/7046 [00:00<?, ?it/s]"
      ]
     },
     "metadata": {},
     "output_type": "display_data"
    },
    {
     "ename": "KeyboardInterrupt",
     "evalue": "",
     "output_type": "error",
     "traceback": [
      "\u001b[0;31m---------------------------------------------------------------------------\u001b[0m",
      "\u001b[0;31mKeyboardInterrupt\u001b[0m                         Traceback (most recent call last)",
      "File \u001b[0;32m~/.conda/envs/kilosort/lib/python3.10/site-packages/spikeinterface/core/job_tools.py:524\u001b[0m, in \u001b[0;36mChunkRecordingExecutor.run\u001b[0;34m(self, recording_slices)\u001b[0m\n\u001b[1;32m    520\u001b[0m     results \u001b[38;5;241m=\u001b[39m tqdm(\n\u001b[1;32m    521\u001b[0m         results, desc\u001b[38;5;241m=\u001b[39m\u001b[38;5;124mf\u001b[39m\u001b[38;5;124m\"\u001b[39m\u001b[38;5;132;01m{\u001b[39;00m\u001b[38;5;28mself\u001b[39m\u001b[38;5;241m.\u001b[39mjob_name\u001b[38;5;132;01m}\u001b[39;00m\u001b[38;5;124m (workers: \u001b[39m\u001b[38;5;132;01m{\u001b[39;00mn_jobs\u001b[38;5;132;01m}\u001b[39;00m\u001b[38;5;124m processes)\u001b[39m\u001b[38;5;124m\"\u001b[39m, total\u001b[38;5;241m=\u001b[39m\u001b[38;5;28mlen\u001b[39m(recording_slices)\n\u001b[1;32m    522\u001b[0m     )\n\u001b[0;32m--> 524\u001b[0m \u001b[38;5;28;01mfor\u001b[39;00m res \u001b[38;5;129;01min\u001b[39;00m results:\n\u001b[1;32m    525\u001b[0m     \u001b[38;5;28;01mif\u001b[39;00m \u001b[38;5;28mself\u001b[39m\u001b[38;5;241m.\u001b[39mhandle_returns:\n",
      "File \u001b[0;32m~/.conda/envs/kilosort/lib/python3.10/site-packages/tqdm/notebook.py:250\u001b[0m, in \u001b[0;36mtqdm_notebook.__iter__\u001b[0;34m(self)\u001b[0m\n\u001b[1;32m    249\u001b[0m it \u001b[38;5;241m=\u001b[39m \u001b[38;5;28msuper\u001b[39m()\u001b[38;5;241m.\u001b[39m\u001b[38;5;21m__iter__\u001b[39m()\n\u001b[0;32m--> 250\u001b[0m \u001b[38;5;28;01mfor\u001b[39;00m obj \u001b[38;5;129;01min\u001b[39;00m it:\n\u001b[1;32m    251\u001b[0m     \u001b[38;5;66;03m# return super(tqdm...) will not catch exception\u001b[39;00m\n\u001b[1;32m    252\u001b[0m     \u001b[38;5;28;01myield\u001b[39;00m obj\n",
      "File \u001b[0;32m~/.conda/envs/kilosort/lib/python3.10/site-packages/tqdm/std.py:1181\u001b[0m, in \u001b[0;36mtqdm.__iter__\u001b[0;34m(self)\u001b[0m\n\u001b[1;32m   1180\u001b[0m \u001b[38;5;28;01mtry\u001b[39;00m:\n\u001b[0;32m-> 1181\u001b[0m     \u001b[38;5;28;01mfor\u001b[39;00m obj \u001b[38;5;129;01min\u001b[39;00m iterable:\n\u001b[1;32m   1182\u001b[0m         \u001b[38;5;28;01myield\u001b[39;00m obj\n",
      "File \u001b[0;32m~/.conda/envs/kilosort/lib/python3.10/concurrent/futures/process.py:575\u001b[0m, in \u001b[0;36m_chain_from_iterable_of_lists\u001b[0;34m(iterable)\u001b[0m\n\u001b[1;32m    570\u001b[0m \u001b[38;5;250m\u001b[39m\u001b[38;5;124;03m\"\"\"\u001b[39;00m\n\u001b[1;32m    571\u001b[0m \u001b[38;5;124;03mSpecialized implementation of itertools.chain.from_iterable.\u001b[39;00m\n\u001b[1;32m    572\u001b[0m \u001b[38;5;124;03mEach item in *iterable* should be a list.  This function is\u001b[39;00m\n\u001b[1;32m    573\u001b[0m \u001b[38;5;124;03mcareful not to keep references to yielded objects.\u001b[39;00m\n\u001b[1;32m    574\u001b[0m \u001b[38;5;124;03m\"\"\"\u001b[39;00m\n\u001b[0;32m--> 575\u001b[0m \u001b[38;5;28;01mfor\u001b[39;00m element \u001b[38;5;129;01min\u001b[39;00m iterable:\n\u001b[1;32m    576\u001b[0m     element\u001b[38;5;241m.\u001b[39mreverse()\n",
      "File \u001b[0;32m~/.conda/envs/kilosort/lib/python3.10/concurrent/futures/_base.py:621\u001b[0m, in \u001b[0;36mExecutor.map.<locals>.result_iterator\u001b[0;34m()\u001b[0m\n\u001b[1;32m    620\u001b[0m \u001b[38;5;28;01mif\u001b[39;00m timeout \u001b[38;5;129;01mis\u001b[39;00m \u001b[38;5;28;01mNone\u001b[39;00m:\n\u001b[0;32m--> 621\u001b[0m     \u001b[38;5;28;01myield\u001b[39;00m \u001b[43m_result_or_cancel\u001b[49m\u001b[43m(\u001b[49m\u001b[43mfs\u001b[49m\u001b[38;5;241;43m.\u001b[39;49m\u001b[43mpop\u001b[49m\u001b[43m(\u001b[49m\u001b[43m)\u001b[49m\u001b[43m)\u001b[49m\n\u001b[1;32m    622\u001b[0m \u001b[38;5;28;01melse\u001b[39;00m:\n",
      "File \u001b[0;32m~/.conda/envs/kilosort/lib/python3.10/concurrent/futures/_base.py:319\u001b[0m, in \u001b[0;36m_result_or_cancel\u001b[0;34m(***failed resolving arguments***)\u001b[0m\n\u001b[1;32m    318\u001b[0m \u001b[38;5;28;01mtry\u001b[39;00m:\n\u001b[0;32m--> 319\u001b[0m     \u001b[38;5;28;01mreturn\u001b[39;00m \u001b[43mfut\u001b[49m\u001b[38;5;241;43m.\u001b[39;49m\u001b[43mresult\u001b[49m\u001b[43m(\u001b[49m\u001b[43mtimeout\u001b[49m\u001b[43m)\u001b[49m\n\u001b[1;32m    320\u001b[0m \u001b[38;5;28;01mfinally\u001b[39;00m:\n",
      "File \u001b[0;32m~/.conda/envs/kilosort/lib/python3.10/concurrent/futures/_base.py:453\u001b[0m, in \u001b[0;36mFuture.result\u001b[0;34m(self, timeout)\u001b[0m\n\u001b[1;32m    451\u001b[0m     \u001b[38;5;28;01mreturn\u001b[39;00m \u001b[38;5;28mself\u001b[39m\u001b[38;5;241m.\u001b[39m__get_result()\n\u001b[0;32m--> 453\u001b[0m \u001b[38;5;28;43mself\u001b[39;49m\u001b[38;5;241;43m.\u001b[39;49m\u001b[43m_condition\u001b[49m\u001b[38;5;241;43m.\u001b[39;49m\u001b[43mwait\u001b[49m\u001b[43m(\u001b[49m\u001b[43mtimeout\u001b[49m\u001b[43m)\u001b[49m\n\u001b[1;32m    455\u001b[0m \u001b[38;5;28;01mif\u001b[39;00m \u001b[38;5;28mself\u001b[39m\u001b[38;5;241m.\u001b[39m_state \u001b[38;5;129;01min\u001b[39;00m [CANCELLED, CANCELLED_AND_NOTIFIED]:\n",
      "File \u001b[0;32m~/.conda/envs/kilosort/lib/python3.10/threading.py:320\u001b[0m, in \u001b[0;36mCondition.wait\u001b[0;34m(self, timeout)\u001b[0m\n\u001b[1;32m    319\u001b[0m \u001b[38;5;28;01mif\u001b[39;00m timeout \u001b[38;5;129;01mis\u001b[39;00m \u001b[38;5;28;01mNone\u001b[39;00m:\n\u001b[0;32m--> 320\u001b[0m     \u001b[43mwaiter\u001b[49m\u001b[38;5;241;43m.\u001b[39;49m\u001b[43macquire\u001b[49m\u001b[43m(\u001b[49m\u001b[43m)\u001b[49m\n\u001b[1;32m    321\u001b[0m     gotit \u001b[38;5;241m=\u001b[39m \u001b[38;5;28;01mTrue\u001b[39;00m\n",
      "\u001b[0;31mKeyboardInterrupt\u001b[0m: ",
      "\nDuring handling of the above exception, another exception occurred:\n",
      "\u001b[0;31mKeyboardInterrupt\u001b[0m                         Traceback (most recent call last)",
      "Cell \u001b[0;32mIn[40], line 11\u001b[0m\n\u001b[1;32m      2\u001b[0m \u001b[38;5;28;01mfrom\u001b[39;00m\u001b[38;5;250m \u001b[39m\u001b[38;5;21;01mspikeinterface\u001b[39;00m\u001b[38;5;21;01m.\u001b[39;00m\u001b[38;5;21;01mqualitymetrics\u001b[39;00m\u001b[38;5;250m \u001b[39m\u001b[38;5;28;01mimport\u001b[39;00m (\n\u001b[1;32m      3\u001b[0m     compute_snrs,\n\u001b[1;32m      4\u001b[0m     compute_firing_rates,\n\u001b[0;32m   (...)\u001b[0m\n\u001b[1;32m      7\u001b[0m     compute_quality_metrics,\n\u001b[1;32m      8\u001b[0m )\n\u001b[1;32m     10\u001b[0m analyzer\u001b[38;5;241m.\u001b[39mcompute(\u001b[38;5;124m\"\u001b[39m\u001b[38;5;124mrandom_spikes\u001b[39m\u001b[38;5;124m\"\u001b[39m, method\u001b[38;5;241m=\u001b[39m\u001b[38;5;124m\"\u001b[39m\u001b[38;5;124muniform\u001b[39m\u001b[38;5;124m\"\u001b[39m, max_spikes_per_unit\u001b[38;5;241m=\u001b[39m\u001b[38;5;241m600\u001b[39m, seed\u001b[38;5;241m=\u001b[39m\u001b[38;5;241m2205\u001b[39m)\n\u001b[0;32m---> 11\u001b[0m \u001b[43manalyzer\u001b[49m\u001b[38;5;241;43m.\u001b[39;49m\u001b[43mcompute\u001b[49m\u001b[43m(\u001b[49m\u001b[38;5;124;43m\"\u001b[39;49m\u001b[38;5;124;43mwaveforms\u001b[39;49m\u001b[38;5;124;43m\"\u001b[39;49m\u001b[43m,\u001b[49m\u001b[43m \u001b[49m\u001b[43mms_before\u001b[49m\u001b[38;5;241;43m=\u001b[39;49m\u001b[38;5;241;43m1.3\u001b[39;49m\u001b[43m,\u001b[49m\u001b[43m \u001b[49m\u001b[43mms_after\u001b[49m\u001b[38;5;241;43m=\u001b[39;49m\u001b[38;5;241;43m2.6\u001b[39;49m\u001b[43m,\u001b[49m\u001b[43m \u001b[49m\u001b[43mn_jobs\u001b[49m\u001b[38;5;241;43m=\u001b[39;49m\u001b[38;5;241;43m40\u001b[39;49m\u001b[43m)\u001b[49m\n\u001b[1;32m     12\u001b[0m analyzer\u001b[38;5;241m.\u001b[39mcompute(\u001b[38;5;124m\"\u001b[39m\u001b[38;5;124mtemplates\u001b[39m\u001b[38;5;124m\"\u001b[39m, operators\u001b[38;5;241m=\u001b[39m[\u001b[38;5;124m\"\u001b[39m\u001b[38;5;124maverage\u001b[39m\u001b[38;5;124m\"\u001b[39m, \u001b[38;5;124m\"\u001b[39m\u001b[38;5;124mmedian\u001b[39m\u001b[38;5;124m\"\u001b[39m, \u001b[38;5;124m\"\u001b[39m\u001b[38;5;124mstd\u001b[39m\u001b[38;5;124m\"\u001b[39m])\n\u001b[1;32m     13\u001b[0m analyzer\u001b[38;5;241m.\u001b[39mcompute(\u001b[38;5;124m\"\u001b[39m\u001b[38;5;124mnoise_levels\u001b[39m\u001b[38;5;124m\"\u001b[39m)\n",
      "File \u001b[0;32m~/.conda/envs/kilosort/lib/python3.10/site-packages/spikeinterface/core/sortinganalyzer.py:1388\u001b[0m, in \u001b[0;36mSortingAnalyzer.compute\u001b[0;34m(self, input, save, extension_params, verbose, **kwargs)\u001b[0m\n\u001b[1;32m   1341\u001b[0m \u001b[38;5;250m\u001b[39m\u001b[38;5;124;03m\"\"\"\u001b[39;00m\n\u001b[1;32m   1342\u001b[0m \u001b[38;5;124;03mCompute one extension or several extensiosn.\u001b[39;00m\n\u001b[1;32m   1343\u001b[0m \u001b[38;5;124;03mInternally calls compute_one_extension() or compute_several_extensions() depending on the input type.\u001b[39;00m\n\u001b[0;32m   (...)\u001b[0m\n\u001b[1;32m   1385\u001b[0m \n\u001b[1;32m   1386\u001b[0m \u001b[38;5;124;03m\"\"\"\u001b[39;00m\n\u001b[1;32m   1387\u001b[0m \u001b[38;5;28;01mif\u001b[39;00m \u001b[38;5;28misinstance\u001b[39m(\u001b[38;5;28minput\u001b[39m, \u001b[38;5;28mstr\u001b[39m):\n\u001b[0;32m-> 1388\u001b[0m     \u001b[38;5;28;01mreturn\u001b[39;00m \u001b[38;5;28;43mself\u001b[39;49m\u001b[38;5;241;43m.\u001b[39;49m\u001b[43mcompute_one_extension\u001b[49m\u001b[43m(\u001b[49m\u001b[43mextension_name\u001b[49m\u001b[38;5;241;43m=\u001b[39;49m\u001b[38;5;28;43minput\u001b[39;49m\u001b[43m,\u001b[49m\u001b[43m \u001b[49m\u001b[43msave\u001b[49m\u001b[38;5;241;43m=\u001b[39;49m\u001b[43msave\u001b[49m\u001b[43m,\u001b[49m\u001b[43m \u001b[49m\u001b[43mverbose\u001b[49m\u001b[38;5;241;43m=\u001b[39;49m\u001b[43mverbose\u001b[49m\u001b[43m,\u001b[49m\u001b[43m \u001b[49m\u001b[38;5;241;43m*\u001b[39;49m\u001b[38;5;241;43m*\u001b[39;49m\u001b[43mkwargs\u001b[49m\u001b[43m)\u001b[49m\n\u001b[1;32m   1389\u001b[0m \u001b[38;5;28;01melif\u001b[39;00m \u001b[38;5;28misinstance\u001b[39m(\u001b[38;5;28minput\u001b[39m, \u001b[38;5;28mdict\u001b[39m):\n\u001b[1;32m   1390\u001b[0m     params_, job_kwargs \u001b[38;5;241m=\u001b[39m split_job_kwargs(kwargs)\n",
      "File \u001b[0;32m~/.conda/envs/kilosort/lib/python3.10/site-packages/spikeinterface/core/sortinganalyzer.py:1467\u001b[0m, in \u001b[0;36mSortingAnalyzer.compute_one_extension\u001b[0;34m(self, extension_name, save, verbose, **kwargs)\u001b[0m\n\u001b[1;32m   1465\u001b[0m extension_instance\u001b[38;5;241m.\u001b[39mset_params(save\u001b[38;5;241m=\u001b[39msave, \u001b[38;5;241m*\u001b[39m\u001b[38;5;241m*\u001b[39mparams)\n\u001b[1;32m   1466\u001b[0m \u001b[38;5;28;01mif\u001b[39;00m extension_class\u001b[38;5;241m.\u001b[39mneed_job_kwargs:\n\u001b[0;32m-> 1467\u001b[0m     \u001b[43mextension_instance\u001b[49m\u001b[38;5;241;43m.\u001b[39;49m\u001b[43mrun\u001b[49m\u001b[43m(\u001b[49m\u001b[43msave\u001b[49m\u001b[38;5;241;43m=\u001b[39;49m\u001b[43msave\u001b[49m\u001b[43m,\u001b[49m\u001b[43m \u001b[49m\u001b[43mverbose\u001b[49m\u001b[38;5;241;43m=\u001b[39;49m\u001b[43mverbose\u001b[49m\u001b[43m,\u001b[49m\u001b[43m \u001b[49m\u001b[38;5;241;43m*\u001b[39;49m\u001b[38;5;241;43m*\u001b[39;49m\u001b[43mjob_kwargs\u001b[49m\u001b[43m)\u001b[49m\n\u001b[1;32m   1468\u001b[0m \u001b[38;5;28;01melse\u001b[39;00m:\n\u001b[1;32m   1469\u001b[0m     extension_instance\u001b[38;5;241m.\u001b[39mrun(save\u001b[38;5;241m=\u001b[39msave, verbose\u001b[38;5;241m=\u001b[39mverbose)\n",
      "File \u001b[0;32m~/.conda/envs/kilosort/lib/python3.10/site-packages/spikeinterface/core/sortinganalyzer.py:2234\u001b[0m, in \u001b[0;36mAnalyzerExtension.run\u001b[0;34m(self, save, **kwargs)\u001b[0m\n\u001b[1;32m   2231\u001b[0m     \u001b[38;5;28mself\u001b[39m\u001b[38;5;241m.\u001b[39m_save_importing_provenance()\n\u001b[1;32m   2233\u001b[0m t_start \u001b[38;5;241m=\u001b[39m perf_counter()\n\u001b[0;32m-> 2234\u001b[0m \u001b[38;5;28;43mself\u001b[39;49m\u001b[38;5;241;43m.\u001b[39;49m\u001b[43m_run\u001b[49m\u001b[43m(\u001b[49m\u001b[38;5;241;43m*\u001b[39;49m\u001b[38;5;241;43m*\u001b[39;49m\u001b[43mkwargs\u001b[49m\u001b[43m)\u001b[49m\n\u001b[1;32m   2235\u001b[0m t_end \u001b[38;5;241m=\u001b[39m perf_counter()\n\u001b[1;32m   2236\u001b[0m \u001b[38;5;28mself\u001b[39m\u001b[38;5;241m.\u001b[39mrun_info[\u001b[38;5;124m\"\u001b[39m\u001b[38;5;124mruntime_s\u001b[39m\u001b[38;5;124m\"\u001b[39m] \u001b[38;5;241m=\u001b[39m t_end \u001b[38;5;241m-\u001b[39m t_start\n",
      "File \u001b[0;32m~/.conda/envs/kilosort/lib/python3.10/site-packages/spikeinterface/core/analyzer_extension_core.py:190\u001b[0m, in \u001b[0;36mComputeWaveforms._run\u001b[0;34m(self, verbose, **job_kwargs)\u001b[0m\n\u001b[1;32m    187\u001b[0m \u001b[38;5;28;01melse\u001b[39;00m:\n\u001b[1;32m    188\u001b[0m     sparsity_mask \u001b[38;5;241m=\u001b[39m \u001b[38;5;28mself\u001b[39m\u001b[38;5;241m.\u001b[39msparsity\u001b[38;5;241m.\u001b[39mmask\n\u001b[0;32m--> 190\u001b[0m all_waveforms \u001b[38;5;241m=\u001b[39m \u001b[43mextract_waveforms_to_single_buffer\u001b[49m\u001b[43m(\u001b[49m\n\u001b[1;32m    191\u001b[0m \u001b[43m    \u001b[49m\u001b[43mrecording\u001b[49m\u001b[43m,\u001b[49m\n\u001b[1;32m    192\u001b[0m \u001b[43m    \u001b[49m\u001b[43msome_spikes\u001b[49m\u001b[43m,\u001b[49m\n\u001b[1;32m    193\u001b[0m \u001b[43m    \u001b[49m\u001b[43munit_ids\u001b[49m\u001b[43m,\u001b[49m\n\u001b[1;32m    194\u001b[0m \u001b[43m    \u001b[49m\u001b[38;5;28;43mself\u001b[39;49m\u001b[38;5;241;43m.\u001b[39;49m\u001b[43mnbefore\u001b[49m\u001b[43m,\u001b[49m\n\u001b[1;32m    195\u001b[0m \u001b[43m    \u001b[49m\u001b[38;5;28;43mself\u001b[39;49m\u001b[38;5;241;43m.\u001b[39;49m\u001b[43mnafter\u001b[49m\u001b[43m,\u001b[49m\n\u001b[1;32m    196\u001b[0m \u001b[43m    \u001b[49m\u001b[43mmode\u001b[49m\u001b[38;5;241;43m=\u001b[39;49m\u001b[43mmode\u001b[49m\u001b[43m,\u001b[49m\n\u001b[1;32m    197\u001b[0m \u001b[43m    \u001b[49m\u001b[43mreturn_scaled\u001b[49m\u001b[38;5;241;43m=\u001b[39;49m\u001b[38;5;28;43mself\u001b[39;49m\u001b[38;5;241;43m.\u001b[39;49m\u001b[43msorting_analyzer\u001b[49m\u001b[38;5;241;43m.\u001b[39;49m\u001b[43mreturn_scaled\u001b[49m\u001b[43m,\u001b[49m\n\u001b[1;32m    198\u001b[0m \u001b[43m    \u001b[49m\u001b[43mfile_path\u001b[49m\u001b[38;5;241;43m=\u001b[39;49m\u001b[43mfile_path\u001b[49m\u001b[43m,\u001b[49m\n\u001b[1;32m    199\u001b[0m \u001b[43m    \u001b[49m\u001b[43mdtype\u001b[49m\u001b[38;5;241;43m=\u001b[39;49m\u001b[38;5;28;43mself\u001b[39;49m\u001b[38;5;241;43m.\u001b[39;49m\u001b[43mparams\u001b[49m\u001b[43m[\u001b[49m\u001b[38;5;124;43m\"\u001b[39;49m\u001b[38;5;124;43mdtype\u001b[39;49m\u001b[38;5;124;43m\"\u001b[39;49m\u001b[43m]\u001b[49m\u001b[43m,\u001b[49m\n\u001b[1;32m    200\u001b[0m \u001b[43m    \u001b[49m\u001b[43msparsity_mask\u001b[49m\u001b[38;5;241;43m=\u001b[39;49m\u001b[43msparsity_mask\u001b[49m\u001b[43m,\u001b[49m\n\u001b[1;32m    201\u001b[0m \u001b[43m    \u001b[49m\u001b[43mcopy\u001b[49m\u001b[38;5;241;43m=\u001b[39;49m\u001b[43mcopy\u001b[49m\u001b[43m,\u001b[49m\n\u001b[1;32m    202\u001b[0m \u001b[43m    \u001b[49m\u001b[43mjob_name\u001b[49m\u001b[38;5;241;43m=\u001b[39;49m\u001b[38;5;124;43m\"\u001b[39;49m\u001b[38;5;124;43mcompute_waveforms\u001b[39;49m\u001b[38;5;124;43m\"\u001b[39;49m\u001b[43m,\u001b[49m\n\u001b[1;32m    203\u001b[0m \u001b[43m    \u001b[49m\u001b[43mverbose\u001b[49m\u001b[38;5;241;43m=\u001b[39;49m\u001b[43mverbose\u001b[49m\u001b[43m,\u001b[49m\n\u001b[1;32m    204\u001b[0m \u001b[43m    \u001b[49m\u001b[38;5;241;43m*\u001b[39;49m\u001b[38;5;241;43m*\u001b[39;49m\u001b[43mjob_kwargs\u001b[49m\u001b[43m,\u001b[49m\n\u001b[1;32m    205\u001b[0m \u001b[43m\u001b[49m\u001b[43m)\u001b[49m\n\u001b[1;32m    207\u001b[0m \u001b[38;5;28mself\u001b[39m\u001b[38;5;241m.\u001b[39mdata[\u001b[38;5;124m\"\u001b[39m\u001b[38;5;124mwaveforms\u001b[39m\u001b[38;5;124m\"\u001b[39m] \u001b[38;5;241m=\u001b[39m all_waveforms\n",
      "File \u001b[0;32m~/.conda/envs/kilosort/lib/python3.10/site-packages/spikeinterface/core/waveform_tools.py:534\u001b[0m, in \u001b[0;36mextract_waveforms_to_single_buffer\u001b[0;34m(recording, spikes, unit_ids, nbefore, nafter, mode, return_scaled, file_path, dtype, sparsity_mask, copy, job_name, verbose, **job_kwargs)\u001b[0m\n\u001b[1;32m    529\u001b[0m         job_name \u001b[38;5;241m=\u001b[39m \u001b[38;5;124mf\u001b[39m\u001b[38;5;124m\"\u001b[39m\u001b[38;5;124mextract waveforms \u001b[39m\u001b[38;5;132;01m{\u001b[39;00mmode\u001b[38;5;132;01m}\u001b[39;00m\u001b[38;5;124m mono buffer\u001b[39m\u001b[38;5;124m\"\u001b[39m\n\u001b[1;32m    531\u001b[0m     processor \u001b[38;5;241m=\u001b[39m ChunkRecordingExecutor(\n\u001b[1;32m    532\u001b[0m         recording, func, init_func, init_args, job_name\u001b[38;5;241m=\u001b[39mjob_name, verbose\u001b[38;5;241m=\u001b[39mverbose, \u001b[38;5;241m*\u001b[39m\u001b[38;5;241m*\u001b[39mjob_kwargs\n\u001b[1;32m    533\u001b[0m     )\n\u001b[0;32m--> 534\u001b[0m     \u001b[43mprocessor\u001b[49m\u001b[38;5;241;43m.\u001b[39;49m\u001b[43mrun\u001b[49m\u001b[43m(\u001b[49m\u001b[43m)\u001b[49m\n\u001b[1;32m    536\u001b[0m \u001b[38;5;28;01mif\u001b[39;00m mode \u001b[38;5;241m==\u001b[39m \u001b[38;5;124m\"\u001b[39m\u001b[38;5;124mmemmap\u001b[39m\u001b[38;5;124m\"\u001b[39m:\n\u001b[1;32m    537\u001b[0m     \u001b[38;5;28;01mreturn\u001b[39;00m all_waveforms\n",
      "File \u001b[0;32m~/.conda/envs/kilosort/lib/python3.10/site-packages/spikeinterface/core/job_tools.py:503\u001b[0m, in \u001b[0;36mChunkRecordingExecutor.run\u001b[0;34m(self, recording_slices)\u001b[0m\n\u001b[1;32m    500\u001b[0m     array_pid \u001b[38;5;241m=\u001b[39m \u001b[38;5;28;01mNone\u001b[39;00m\n\u001b[1;32m    502\u001b[0m \u001b[38;5;66;03m# parallel\u001b[39;00m\n\u001b[0;32m--> 503\u001b[0m \u001b[38;5;28;01mwith\u001b[39;00m ProcessPoolExecutor(\n\u001b[1;32m    504\u001b[0m     max_workers\u001b[38;5;241m=\u001b[39mn_jobs,\n\u001b[1;32m    505\u001b[0m     initializer\u001b[38;5;241m=\u001b[39mprocess_worker_initializer,\n\u001b[1;32m    506\u001b[0m     mp_context\u001b[38;5;241m=\u001b[39mmultiprocessing\u001b[38;5;241m.\u001b[39mget_context(\u001b[38;5;28mself\u001b[39m\u001b[38;5;241m.\u001b[39mmp_context),\n\u001b[1;32m    507\u001b[0m     initargs\u001b[38;5;241m=\u001b[39m(\n\u001b[1;32m    508\u001b[0m         \u001b[38;5;28mself\u001b[39m\u001b[38;5;241m.\u001b[39mfunc,\n\u001b[1;32m    509\u001b[0m         \u001b[38;5;28mself\u001b[39m\u001b[38;5;241m.\u001b[39minit_func,\n\u001b[1;32m    510\u001b[0m         \u001b[38;5;28mself\u001b[39m\u001b[38;5;241m.\u001b[39minit_args,\n\u001b[1;32m    511\u001b[0m         \u001b[38;5;28mself\u001b[39m\u001b[38;5;241m.\u001b[39mmax_threads_per_worker,\n\u001b[1;32m    512\u001b[0m         \u001b[38;5;28mself\u001b[39m\u001b[38;5;241m.\u001b[39mneed_worker_index,\n\u001b[1;32m    513\u001b[0m         lock,\n\u001b[1;32m    514\u001b[0m         array_pid,\n\u001b[1;32m    515\u001b[0m     ),\n\u001b[1;32m    516\u001b[0m ) \u001b[38;5;28;01mas\u001b[39;00m executor:\n\u001b[1;32m    517\u001b[0m     results \u001b[38;5;241m=\u001b[39m executor\u001b[38;5;241m.\u001b[39mmap(process_function_wrapper, recording_slices)\n\u001b[1;32m    519\u001b[0m     \u001b[38;5;28;01mif\u001b[39;00m \u001b[38;5;28mself\u001b[39m\u001b[38;5;241m.\u001b[39mprogress_bar:\n",
      "File \u001b[0;32m~/.conda/envs/kilosort/lib/python3.10/concurrent/futures/_base.py:649\u001b[0m, in \u001b[0;36mExecutor.__exit__\u001b[0;34m(self, exc_type, exc_val, exc_tb)\u001b[0m\n\u001b[1;32m    648\u001b[0m \u001b[38;5;28;01mdef\u001b[39;00m\u001b[38;5;250m \u001b[39m\u001b[38;5;21m__exit__\u001b[39m(\u001b[38;5;28mself\u001b[39m, exc_type, exc_val, exc_tb):\n\u001b[0;32m--> 649\u001b[0m     \u001b[38;5;28;43mself\u001b[39;49m\u001b[38;5;241;43m.\u001b[39;49m\u001b[43mshutdown\u001b[49m\u001b[43m(\u001b[49m\u001b[43mwait\u001b[49m\u001b[38;5;241;43m=\u001b[39;49m\u001b[38;5;28;43;01mTrue\u001b[39;49;00m\u001b[43m)\u001b[49m\n\u001b[1;32m    650\u001b[0m     \u001b[38;5;28;01mreturn\u001b[39;00m \u001b[38;5;28;01mFalse\u001b[39;00m\n",
      "File \u001b[0;32m~/.conda/envs/kilosort/lib/python3.10/concurrent/futures/process.py:780\u001b[0m, in \u001b[0;36mProcessPoolExecutor.shutdown\u001b[0;34m(self, wait, cancel_futures)\u001b[0m\n\u001b[1;32m    777\u001b[0m         \u001b[38;5;28mself\u001b[39m\u001b[38;5;241m.\u001b[39m_executor_manager_thread_wakeup\u001b[38;5;241m.\u001b[39mwakeup()\n\u001b[1;32m    779\u001b[0m \u001b[38;5;28;01mif\u001b[39;00m \u001b[38;5;28mself\u001b[39m\u001b[38;5;241m.\u001b[39m_executor_manager_thread \u001b[38;5;129;01mis\u001b[39;00m \u001b[38;5;129;01mnot\u001b[39;00m \u001b[38;5;28;01mNone\u001b[39;00m \u001b[38;5;129;01mand\u001b[39;00m wait:\n\u001b[0;32m--> 780\u001b[0m     \u001b[38;5;28;43mself\u001b[39;49m\u001b[38;5;241;43m.\u001b[39;49m\u001b[43m_executor_manager_thread\u001b[49m\u001b[38;5;241;43m.\u001b[39;49m\u001b[43mjoin\u001b[49m\u001b[43m(\u001b[49m\u001b[43m)\u001b[49m\n\u001b[1;32m    781\u001b[0m \u001b[38;5;66;03m# To reduce the risk of opening too many files, remove references to\u001b[39;00m\n\u001b[1;32m    782\u001b[0m \u001b[38;5;66;03m# objects that use file descriptors.\u001b[39;00m\n\u001b[1;32m    783\u001b[0m \u001b[38;5;28mself\u001b[39m\u001b[38;5;241m.\u001b[39m_executor_manager_thread \u001b[38;5;241m=\u001b[39m \u001b[38;5;28;01mNone\u001b[39;00m\n",
      "File \u001b[0;32m~/.conda/envs/kilosort/lib/python3.10/threading.py:1096\u001b[0m, in \u001b[0;36mThread.join\u001b[0;34m(self, timeout)\u001b[0m\n\u001b[1;32m   1093\u001b[0m     \u001b[38;5;28;01mraise\u001b[39;00m \u001b[38;5;167;01mRuntimeError\u001b[39;00m(\u001b[38;5;124m\"\u001b[39m\u001b[38;5;124mcannot join current thread\u001b[39m\u001b[38;5;124m\"\u001b[39m)\n\u001b[1;32m   1095\u001b[0m \u001b[38;5;28;01mif\u001b[39;00m timeout \u001b[38;5;129;01mis\u001b[39;00m \u001b[38;5;28;01mNone\u001b[39;00m:\n\u001b[0;32m-> 1096\u001b[0m     \u001b[38;5;28;43mself\u001b[39;49m\u001b[38;5;241;43m.\u001b[39;49m\u001b[43m_wait_for_tstate_lock\u001b[49m\u001b[43m(\u001b[49m\u001b[43m)\u001b[49m\n\u001b[1;32m   1097\u001b[0m \u001b[38;5;28;01melse\u001b[39;00m:\n\u001b[1;32m   1098\u001b[0m     \u001b[38;5;66;03m# the behavior of a negative timeout isn't documented, but\u001b[39;00m\n\u001b[1;32m   1099\u001b[0m     \u001b[38;5;66;03m# historically .join(timeout=x) for x<0 has acted as if timeout=0\u001b[39;00m\n\u001b[1;32m   1100\u001b[0m     \u001b[38;5;28mself\u001b[39m\u001b[38;5;241m.\u001b[39m_wait_for_tstate_lock(timeout\u001b[38;5;241m=\u001b[39m\u001b[38;5;28mmax\u001b[39m(timeout, \u001b[38;5;241m0\u001b[39m))\n",
      "File \u001b[0;32m~/.conda/envs/kilosort/lib/python3.10/threading.py:1116\u001b[0m, in \u001b[0;36mThread._wait_for_tstate_lock\u001b[0;34m(self, block, timeout)\u001b[0m\n\u001b[1;32m   1113\u001b[0m     \u001b[38;5;28;01mreturn\u001b[39;00m\n\u001b[1;32m   1115\u001b[0m \u001b[38;5;28;01mtry\u001b[39;00m:\n\u001b[0;32m-> 1116\u001b[0m     \u001b[38;5;28;01mif\u001b[39;00m \u001b[43mlock\u001b[49m\u001b[38;5;241;43m.\u001b[39;49m\u001b[43macquire\u001b[49m\u001b[43m(\u001b[49m\u001b[43mblock\u001b[49m\u001b[43m,\u001b[49m\u001b[43m \u001b[49m\u001b[43mtimeout\u001b[49m\u001b[43m)\u001b[49m:\n\u001b[1;32m   1117\u001b[0m         lock\u001b[38;5;241m.\u001b[39mrelease()\n\u001b[1;32m   1118\u001b[0m         \u001b[38;5;28mself\u001b[39m\u001b[38;5;241m.\u001b[39m_stop()\n",
      "\u001b[0;31mKeyboardInterrupt\u001b[0m: "
     ]
    }
   ],
   "source": [
    "from spikeinterface.postprocessing import compute_principal_components\n",
    "from spikeinterface.qualitymetrics import (\n",
    "    compute_snrs,\n",
    "    compute_firing_rates,\n",
    "    compute_isi_violations,\n",
    "    calculate_pc_metrics,\n",
    "    compute_quality_metrics,\n",
    ")\n",
    "\n",
    "analyzer.compute(\"random_spikes\", method=\"uniform\", max_spikes_per_unit=600, seed=2205)\n",
    "analyzer.compute(\"waveforms\", ms_before=1.3, ms_after=2.6, n_jobs=40)\n",
    "analyzer.compute(\"templates\", operators=[\"average\", \"median\", \"std\"])\n",
    "analyzer.compute(\"noise_levels\")\n",
    "analyzer.compute(input=\"isi_histograms\",window_ms=50.0,bin_ms=1.0,method=\"auto\")\n",
    "analyzer.compute(input=\"correlograms\",window_ms=50.0,bin_ms=1.0,method=\"auto\")\n",
    "\n",
    "qm_ext = analyzer.compute(input=\"quality_metrics\", metric_names=['isi','ccg'], skip_pc_metrics=True)\n",
    "#metrics = qm_ext.get_data()\n",
    "#assert 'snr' in metrics.columns\n",
    "\n",
    "print(analyzer)"
   ]
  },
  {
   "cell_type": "code",
   "execution_count": null,
   "id": "12d5afc0-fde7-41d4-b622-1b6bbff0cdae",
   "metadata": {},
   "outputs": [],
   "source": [
    "import spikeinterface.widgets as sw\n",
    "\n",
    "#w_isi = sw.plot_isi_distribution(sorting, unit_ids=[1], window_ms=150.0, bin_ms=5.0, figsize=(20, 8))\n",
    "\n",
    "qm = sw.plot_quality_metrics(analyzer, unit_ids=[1], include_metrics=['isi','ccg'], figsize=(20, 8))"
   ]
  },
  {
   "cell_type": "code",
   "execution_count": null,
   "id": "c344adbc-784b-4444-b383-c69407cc0512",
   "metadata": {},
   "outputs": [],
   "source": []
  }
 ],
 "metadata": {
  "kernelspec": {
   "display_name": "Python 3 (ipykernel)",
   "language": "python",
   "name": "python3"
  },
  "language_info": {
   "codemirror_mode": {
    "name": "ipython",
    "version": 3
   },
   "file_extension": ".py",
   "mimetype": "text/x-python",
   "name": "python",
   "nbconvert_exporter": "python",
   "pygments_lexer": "ipython3",
   "version": "3.10.14"
  }
 },
 "nbformat": 4,
 "nbformat_minor": 5
}
