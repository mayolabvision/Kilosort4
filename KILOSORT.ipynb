{
 "cells": [
  {
   "cell_type": "code",
   "execution_count": 13,
   "id": "578e43ef-3a2c-4105-be1e-24f61e9f9632",
   "metadata": {},
   "outputs": [],
   "source": [
    "import urllib.request\n",
    "from pathlib import Path\n",
    "from tqdm import tqdm\n",
    "\n",
    "from kilosort.io import load_probe\n",
    "from kilosort import run_kilosort, DEFAULT_SETTINGS"
   ]
  },
  {
   "cell_type": "code",
   "execution_count": 19,
   "id": "09419f72-6776-4cfb-a3e0-8abeeec58980",
   "metadata": {},
   "outputs": [
    {
     "name": "stdout",
     "output_type": "stream",
     "text": [
      "{'chanMap': array([ 0,  1,  2,  3,  4,  5,  6,  7,  8,  9, 10, 11, 12, 13, 14, 15, 16,\n",
      "       17, 18, 19, 20, 21, 22, 23]), 'xc': array([5.5, 5.5, 5.5, 5.5, 5.5, 5.5, 5.5, 5.5, 5.5, 5.5, 5.5, 5.5, 5.5,\n",
      "       5.5, 5.5, 5.5, 5.5, 5.5, 5.5, 5.5, 5.5, 5.5, 5.5, 5.5]), 'yc': array([   7.5,  157.5,  307.5,  457.5,  607.5,  757.5,  907.5, 1057.5,\n",
      "       1207.5, 1357.5, 1507.5, 1657.5, 1807.5, 1957.5, 2107.5, 2257.5,\n",
      "       2407.5, 2557.5, 2707.5, 2857.5, 3007.5, 3157.5, 3307.5, 3457.5]), 'kcoords': array([0., 0., 0., 0., 0., 0., 0., 0., 0., 0., 0., 0., 0., 0., 0., 0., 0.,\n",
      "       0., 0., 0., 0., 0., 0., 0.]), 'n_chan': 24}\n"
     ]
    }
   ],
   "source": [
    "import numpy as np\n",
    "\n",
    "n_chan = 24\n",
    "chanMap = np.arange(n_chan)\n",
    "kcoords = np.zeros(n_chan)\n",
    "xc = np.ones(n_chan)*5.5\n",
    "yc = np.array([7.5 + 150*i for i in range(n_chan)])\n",
    "\n",
    "probe = {\n",
    "    'chanMap': chanMap,\n",
    "    'xc': xc,\n",
    "    'yc': yc,\n",
    "    'kcoords': kcoords,\n",
    "    'n_chan': n_chan\n",
    "}\n",
    "\n",
    "print(probe)"
   ]
  },
  {
   "cell_type": "code",
   "execution_count": 22,
   "id": "f26d3f07-471b-49f0-b7dc-d35279e0133b",
   "metadata": {},
   "outputs": [],
   "source": [
    "#probe = load_probe('/Users/kendranoneman/Projects/mayo/helperfunctions/mappings/probes/N19415.prb')\n",
    "\n",
    "settings = DEFAULT_SETTINGS\n",
    "settings['probe'] = probe\n",
    "settings['n_chan_bin'] = 24\n",
    "settings['fs'] = 30000\n",
    "settings['filename'] = '/Users/kendranoneman/OneDrive/DATA/bins/kendra_scrappy_0097a/rfmp2.bin'\n",
    "settings['results_dir'] = '/Users/kendranoneman/OneDrive/DATA/kilosort/kendra_scrappy_0097a'\n"
   ]
  },
  {
   "cell_type": "code",
   "execution_count": 23,
   "id": "f80c9e54-1a88-413e-8bd7-4947991337bf",
   "metadata": {},
   "outputs": [
    {
     "name": "stdout",
     "output_type": "stream",
     "text": [
      "Interpreting binary file as default dtype='int16'. If data was saved in a different format, specify `data_dtype`.\n",
      "Using CPU for PyTorch computations. Specify `device` to change this.\n",
      "Preprocessing filters computed in  0.58s; total  0.58s\n",
      "\n",
      "computing drift\n",
      "Re-computing universal templates from data.\n"
     ]
    },
    {
     "name": "stderr",
     "output_type": "stream",
     "text": [
      "100%|█████████████████████████████████████████| 202/202 [00:39<00:00,  5.09it/s]\n"
     ]
    },
    {
     "name": "stdout",
     "output_type": "stream",
     "text": [
      "drift computed in  45.98s; total  46.56s\n",
      "\n",
      "Extracting spikes using templates\n",
      "Re-computing universal templates from data.\n"
     ]
    },
    {
     "ename": "RuntimeError",
     "evalue": "expected m1 and m2 to have the same dtype, but got: double != float",
     "output_type": "error",
     "traceback": [
      "\u001b[0;31m---------------------------------------------------------------------------\u001b[0m",
      "\u001b[0;31mRuntimeError\u001b[0m                              Traceback (most recent call last)",
      "Cell \u001b[0;32mIn[23], line 1\u001b[0m\n\u001b[0;32m----> 1\u001b[0m ops, st, clu, tF, Wall, similar_templates, is_ref, est_contam_rate \u001b[38;5;241m=\u001b[39m \u001b[43mrun_kilosort\u001b[49m\u001b[43m(\u001b[49m\u001b[43msettings\u001b[49m\u001b[38;5;241;43m=\u001b[39;49m\u001b[43msettings\u001b[49m\u001b[43m,\u001b[49m\u001b[43m \u001b[49m\u001b[43mprobe\u001b[49m\u001b[38;5;241;43m=\u001b[39;49m\u001b[43mprobe\u001b[49m\u001b[43m)\u001b[49m \n",
      "File \u001b[0;32m~/Packages/Kilosort4/kilosort/run_kilosort.py:147\u001b[0m, in \u001b[0;36mrun_kilosort\u001b[0;34m(settings, probe, probe_name, filename, data_dir, file_object, results_dir, data_dtype, do_CAR, invert_sign, device, progress_bar, save_extra_vars)\u001b[0m\n\u001b[1;32m    144\u001b[0m io\u001b[38;5;241m.\u001b[39msave_ops(ops, results_dir)\n\u001b[1;32m    146\u001b[0m \u001b[38;5;66;03m# Sort spikes and save results\u001b[39;00m\n\u001b[0;32m--> 147\u001b[0m st, tF, _, _ \u001b[38;5;241m=\u001b[39m \u001b[43mdetect_spikes\u001b[49m\u001b[43m(\u001b[49m\u001b[43mops\u001b[49m\u001b[43m,\u001b[49m\u001b[43m \u001b[49m\u001b[43mdevice\u001b[49m\u001b[43m,\u001b[49m\u001b[43m \u001b[49m\u001b[43mbfile\u001b[49m\u001b[43m,\u001b[49m\u001b[43m \u001b[49m\u001b[43mtic0\u001b[49m\u001b[38;5;241;43m=\u001b[39;49m\u001b[43mtic0\u001b[49m\u001b[43m,\u001b[49m\n\u001b[1;32m    148\u001b[0m \u001b[43m                             \u001b[49m\u001b[43mprogress_bar\u001b[49m\u001b[38;5;241;43m=\u001b[39;49m\u001b[43mprogress_bar\u001b[49m\u001b[43m)\u001b[49m\n\u001b[1;32m    149\u001b[0m clu, Wall \u001b[38;5;241m=\u001b[39m cluster_spikes(st, tF, ops, device, bfile, tic0\u001b[38;5;241m=\u001b[39mtic0,\n\u001b[1;32m    150\u001b[0m                            progress_bar\u001b[38;5;241m=\u001b[39mprogress_bar)\n\u001b[1;32m    151\u001b[0m ops, similar_templates, is_ref, est_contam_rate, kept_spikes \u001b[38;5;241m=\u001b[39m \\\n\u001b[1;32m    152\u001b[0m     save_sorting(ops, results_dir, st, clu, tF, Wall, bfile\u001b[38;5;241m.\u001b[39mimin, tic0,\n\u001b[1;32m    153\u001b[0m                  save_extra_vars\u001b[38;5;241m=\u001b[39msave_extra_vars)\n",
      "File \u001b[0;32m~/Packages/Kilosort4/kilosort/run_kilosort.py:398\u001b[0m, in \u001b[0;36mdetect_spikes\u001b[0;34m(ops, device, bfile, tic0, progress_bar)\u001b[0m\n\u001b[1;32m    396\u001b[0m tic \u001b[38;5;241m=\u001b[39m time\u001b[38;5;241m.\u001b[39mtime()\n\u001b[1;32m    397\u001b[0m \u001b[38;5;28mprint\u001b[39m(\u001b[38;5;124mf\u001b[39m\u001b[38;5;124m'\u001b[39m\u001b[38;5;130;01m\\n\u001b[39;00m\u001b[38;5;124mExtracting spikes using templates\u001b[39m\u001b[38;5;124m'\u001b[39m)\n\u001b[0;32m--> 398\u001b[0m st0, tF, ops \u001b[38;5;241m=\u001b[39m \u001b[43mspikedetect\u001b[49m\u001b[38;5;241;43m.\u001b[39;49m\u001b[43mrun\u001b[49m\u001b[43m(\u001b[49m\u001b[43mops\u001b[49m\u001b[43m,\u001b[49m\u001b[43m \u001b[49m\u001b[43mbfile\u001b[49m\u001b[43m,\u001b[49m\u001b[43m \u001b[49m\u001b[43mdevice\u001b[49m\u001b[38;5;241;43m=\u001b[39;49m\u001b[43mdevice\u001b[49m\u001b[43m,\u001b[49m\u001b[43m \u001b[49m\u001b[43mprogress_bar\u001b[49m\u001b[38;5;241;43m=\u001b[39;49m\u001b[43mprogress_bar\u001b[49m\u001b[43m)\u001b[49m\n\u001b[1;32m    399\u001b[0m tF \u001b[38;5;241m=\u001b[39m torch\u001b[38;5;241m.\u001b[39mfrom_numpy(tF)\n\u001b[1;32m    400\u001b[0m \u001b[38;5;28mprint\u001b[39m(\u001b[38;5;124mf\u001b[39m\u001b[38;5;124m'\u001b[39m\u001b[38;5;132;01m{\u001b[39;00m\u001b[38;5;28mlen\u001b[39m(st0)\u001b[38;5;132;01m}\u001b[39;00m\u001b[38;5;124m spikes extracted in \u001b[39m\u001b[38;5;132;01m{\u001b[39;00mtime\u001b[38;5;241m.\u001b[39mtime()\u001b[38;5;241m-\u001b[39mtic\u001b[38;5;250m \u001b[39m\u001b[38;5;132;01m:\u001b[39;00m\u001b[38;5;124m .2f\u001b[39m\u001b[38;5;132;01m}\u001b[39;00m\u001b[38;5;124ms; \u001b[39m\u001b[38;5;124m'\u001b[39m \u001b[38;5;241m+\u001b[39m \n\u001b[1;32m    401\u001b[0m         \u001b[38;5;124mf\u001b[39m\u001b[38;5;124m'\u001b[39m\u001b[38;5;124mtotal \u001b[39m\u001b[38;5;132;01m{\u001b[39;00mtime\u001b[38;5;241m.\u001b[39mtime()\u001b[38;5;241m-\u001b[39mtic0\u001b[38;5;250m \u001b[39m\u001b[38;5;132;01m:\u001b[39;00m\u001b[38;5;124m .2f\u001b[39m\u001b[38;5;132;01m}\u001b[39;00m\u001b[38;5;124ms\u001b[39m\u001b[38;5;124m'\u001b[39m)\n",
      "File \u001b[0;32m~/Packages/Kilosort4/kilosort/spikedetect.py:188\u001b[0m, in \u001b[0;36mrun\u001b[0;34m(ops, bfile, device, progress_bar)\u001b[0m\n\u001b[1;32m    186\u001b[0m     \u001b[38;5;28mprint\u001b[39m(\u001b[38;5;124m'\u001b[39m\u001b[38;5;124mRe-computing universal templates from data.\u001b[39m\u001b[38;5;124m'\u001b[39m)\n\u001b[1;32m    187\u001b[0m     \u001b[38;5;66;03m# Determine templates and PC features from data.\u001b[39;00m\n\u001b[0;32m--> 188\u001b[0m     ops[\u001b[38;5;124m'\u001b[39m\u001b[38;5;124mwPCA\u001b[39m\u001b[38;5;124m'\u001b[39m], ops[\u001b[38;5;124m'\u001b[39m\u001b[38;5;124mwTEMP\u001b[39m\u001b[38;5;124m'\u001b[39m] \u001b[38;5;241m=\u001b[39m \u001b[43mextract_wPCA_wTEMP\u001b[49m\u001b[43m(\u001b[49m\n\u001b[1;32m    189\u001b[0m \u001b[43m        \u001b[49m\u001b[43mops\u001b[49m\u001b[43m,\u001b[49m\u001b[43m \u001b[49m\u001b[43mbfile\u001b[49m\u001b[43m,\u001b[49m\u001b[43m \u001b[49m\u001b[43mnt\u001b[49m\u001b[38;5;241;43m=\u001b[39;49m\u001b[43mops\u001b[49m\u001b[43m[\u001b[49m\u001b[38;5;124;43m'\u001b[39;49m\u001b[38;5;124;43mnt\u001b[39;49m\u001b[38;5;124;43m'\u001b[39;49m\u001b[43m]\u001b[49m\u001b[43m,\u001b[49m\u001b[43m \u001b[49m\u001b[43mtwav_min\u001b[49m\u001b[38;5;241;43m=\u001b[39;49m\u001b[43mops\u001b[49m\u001b[43m[\u001b[49m\u001b[38;5;124;43m'\u001b[39;49m\u001b[38;5;124;43mnt0min\u001b[39;49m\u001b[38;5;124;43m'\u001b[39;49m\u001b[43m]\u001b[49m\u001b[43m,\u001b[49m\u001b[43m \u001b[49m\n\u001b[1;32m    190\u001b[0m \u001b[43m        \u001b[49m\u001b[43mTh_single_ch\u001b[49m\u001b[38;5;241;43m=\u001b[39;49m\u001b[43mops\u001b[49m\u001b[43m[\u001b[49m\u001b[38;5;124;43m'\u001b[39;49m\u001b[38;5;124;43msettings\u001b[39;49m\u001b[38;5;124;43m'\u001b[39;49m\u001b[43m]\u001b[49m\u001b[43m[\u001b[49m\u001b[38;5;124;43m'\u001b[39;49m\u001b[38;5;124;43mTh_single_ch\u001b[39;49m\u001b[38;5;124;43m'\u001b[39;49m\u001b[43m]\u001b[49m\u001b[43m,\u001b[49m\u001b[43m \u001b[49m\u001b[43mnskip\u001b[49m\u001b[38;5;241;43m=\u001b[39;49m\u001b[38;5;241;43m25\u001b[39;49m\u001b[43m,\u001b[49m\n\u001b[1;32m    191\u001b[0m \u001b[43m        \u001b[49m\u001b[43mdevice\u001b[49m\u001b[38;5;241;43m=\u001b[39;49m\u001b[43mdevice\u001b[49m\n\u001b[1;32m    192\u001b[0m \u001b[43m        \u001b[49m\u001b[43m)\u001b[49m\n\u001b[1;32m    193\u001b[0m \u001b[38;5;28;01melse\u001b[39;00m:\n\u001b[1;32m    194\u001b[0m     \u001b[38;5;28mprint\u001b[39m(\u001b[38;5;124m'\u001b[39m\u001b[38;5;124mUsing built-in universal templates.\u001b[39m\u001b[38;5;124m'\u001b[39m)\n",
      "File \u001b[0;32m~/Packages/Kilosort4/kilosort/spikedetect.py:55\u001b[0m, in \u001b[0;36mextract_wPCA_wTEMP\u001b[0;34m(ops, bfile, nt, twav_min, Th_single_ch, nskip, device)\u001b[0m\n\u001b[1;32m     53\u001b[0m i \u001b[38;5;241m=\u001b[39m \u001b[38;5;241m0\u001b[39m\n\u001b[1;32m     54\u001b[0m \u001b[38;5;28;01mfor\u001b[39;00m j \u001b[38;5;129;01min\u001b[39;00m \u001b[38;5;28mrange\u001b[39m(\u001b[38;5;241m0\u001b[39m, bfile\u001b[38;5;241m.\u001b[39mn_batches, nskip):\n\u001b[0;32m---> 55\u001b[0m     X \u001b[38;5;241m=\u001b[39m \u001b[43mbfile\u001b[49m\u001b[38;5;241;43m.\u001b[39;49m\u001b[43mpadded_batch_to_torch\u001b[49m\u001b[43m(\u001b[49m\u001b[43mj\u001b[49m\u001b[43m,\u001b[49m\u001b[43m \u001b[49m\u001b[43mops\u001b[49m\u001b[43m)\u001b[49m\n\u001b[1;32m     57\u001b[0m     clips_new \u001b[38;5;241m=\u001b[39m extract_snippets(X, nt\u001b[38;5;241m=\u001b[39mnt, twav_min\u001b[38;5;241m=\u001b[39mtwav_min,\n\u001b[1;32m     58\u001b[0m                                  Th_single_ch\u001b[38;5;241m=\u001b[39mTh_single_ch, device\u001b[38;5;241m=\u001b[39mdevice)\n\u001b[1;32m     60\u001b[0m     nnew \u001b[38;5;241m=\u001b[39m \u001b[38;5;28mlen\u001b[39m(clips_new)\n",
      "File \u001b[0;32m~/Packages/Kilosort4/kilosort/io.py:708\u001b[0m, in \u001b[0;36mBinaryFiltered.padded_batch_to_torch\u001b[0;34m(self, ibatch, ops, return_inds)\u001b[0m\n\u001b[1;32m    706\u001b[0m \u001b[38;5;28;01melse\u001b[39;00m:\n\u001b[1;32m    707\u001b[0m     X \u001b[38;5;241m=\u001b[39m \u001b[38;5;28msuper\u001b[39m()\u001b[38;5;241m.\u001b[39mpadded_batch_to_torch(ibatch)\n\u001b[0;32m--> 708\u001b[0m     \u001b[38;5;28;01mreturn\u001b[39;00m \u001b[38;5;28;43mself\u001b[39;49m\u001b[38;5;241;43m.\u001b[39;49m\u001b[43mfilter\u001b[49m\u001b[43m(\u001b[49m\u001b[43mX\u001b[49m\u001b[43m,\u001b[49m\u001b[43m \u001b[49m\u001b[43mops\u001b[49m\u001b[43m,\u001b[49m\u001b[43m \u001b[49m\u001b[43mibatch\u001b[49m\u001b[43m)\u001b[49m\n",
      "File \u001b[0;32m~/Packages/Kilosort4/kilosort/io.py:688\u001b[0m, in \u001b[0;36mBinaryFiltered.filter\u001b[0;34m(self, X, ops, ibatch)\u001b[0m\n\u001b[1;32m    686\u001b[0m     M \u001b[38;5;241m=\u001b[39m get_drift_matrix(ops, \u001b[38;5;28mself\u001b[39m\u001b[38;5;241m.\u001b[39mdshift[ibatch], device\u001b[38;5;241m=\u001b[39m\u001b[38;5;28mself\u001b[39m\u001b[38;5;241m.\u001b[39mdevice)\n\u001b[1;32m    687\u001b[0m     \u001b[38;5;66;03m#print(M.dtype, X.dtype, self.whiten_mat.dtype)\u001b[39;00m\n\u001b[0;32m--> 688\u001b[0m     X \u001b[38;5;241m=\u001b[39m (\u001b[43mM\u001b[49m\u001b[43m \u001b[49m\u001b[38;5;241;43m@\u001b[39;49m\u001b[43m \u001b[49m\u001b[38;5;28;43mself\u001b[39;49m\u001b[38;5;241;43m.\u001b[39;49m\u001b[43mwhiten_mat\u001b[49m) \u001b[38;5;241m@\u001b[39m X\n\u001b[1;32m    689\u001b[0m \u001b[38;5;28;01melse\u001b[39;00m:\n\u001b[1;32m    690\u001b[0m     X \u001b[38;5;241m=\u001b[39m \u001b[38;5;28mself\u001b[39m\u001b[38;5;241m.\u001b[39mwhiten_mat \u001b[38;5;241m@\u001b[39m X\n",
      "\u001b[0;31mRuntimeError\u001b[0m: expected m1 and m2 to have the same dtype, but got: double != float"
     ]
    }
   ],
   "source": [
    "ops, st, clu, tF, Wall, similar_templates, is_ref, est_contam_rate = run_kilosort(settings=settings, probe=probe) "
   ]
  },
  {
   "cell_type": "code",
   "execution_count": 3,
   "id": "d6ea3a8f-5602-4df1-bdfe-ddb32bc9e007",
   "metadata": {},
   "outputs": [
    {
     "data": {
      "text/plain": [
       "{'chanMap': array([23, 22, 21, 20, 19, 18, 17, 16, 15, 14, 13, 12, 11, 10,  9,  8,  7,\n",
       "         6,  5,  4,  3,  2,  1,  0], dtype=int32),\n",
       " 'xc': array([0., 0., 0., 0., 0., 0., 0., 0., 0., 0., 0., 0., 0., 0., 0., 0., 0.,\n",
       "        0., 0., 0., 0., 0., 0., 0.], dtype=float32),\n",
       " 'yc': array([ 750.,  900., 1050., 1200., 1350., 1500., 1650., 1800., 1950.,\n",
       "        2100., 2250., 2400., 2550., 2700., 2850., 3000., 3150., 3300.,\n",
       "        3450., 3600., 3750., 3900., 4050., 4200.], dtype=float32),\n",
       " 'kcoords': array([0., 0., 0., 0., 0., 0., 0., 0., 0., 0., 0., 0., 0., 0., 0., 0., 0.,\n",
       "        0., 0., 0., 0., 0., 0., 0.], dtype=float32),\n",
       " 'n_chan': 24}"
      ]
     },
     "execution_count": 3,
     "metadata": {},
     "output_type": "execute_result"
    }
   ],
   "source": [
    "probe"
   ]
  }
 ],
 "metadata": {
  "kernelspec": {
   "display_name": "kilosort",
   "language": "python",
   "name": "kilosort"
  },
  "language_info": {
   "codemirror_mode": {
    "name": "ipython",
    "version": 3
   },
   "file_extension": ".py",
   "mimetype": "text/x-python",
   "name": "python",
   "nbconvert_exporter": "python",
   "pygments_lexer": "ipython3",
   "version": "3.9.21"
  }
 },
 "nbformat": 4,
 "nbformat_minor": 5
}
