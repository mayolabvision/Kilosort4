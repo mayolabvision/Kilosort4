{
 "cells": [
  {
   "cell_type": "code",
   "execution_count": 19,
   "id": "578e43ef-3a2c-4105-be1e-24f61e9f9632",
   "metadata": {},
   "outputs": [
    {
     "name": "stderr",
     "output_type": "stream",
     "text": [
      "OMP: Warning #234: OMP_NUM_THREADS: Invalid symbols found. Check the value \"KMeans is known to have a memory leak on Windows with MKL\".\n"
     ]
    },
    {
     "name": "stdout",
     "output_type": "stream",
     "text": [
      "Requirement already satisfied: kilosort in /ihome/pmayo/knoneman/Kilosort4 (0.1.dev1164+gdfaaf6b.d20240502)\n",
      "Requirement already satisfied: numpy>=1.20.0 in /ihome/pmayo/knoneman/.conda/envs/kilosort/lib/python3.10/site-packages (from kilosort) (1.26.4)\n",
      "Requirement already satisfied: scipy in /ihome/pmayo/knoneman/.conda/envs/kilosort/lib/python3.10/site-packages (from kilosort) (1.13.0)\n",
      "Requirement already satisfied: scikit-learn in /ihome/pmayo/knoneman/.conda/envs/kilosort/lib/python3.10/site-packages (from kilosort) (1.4.2)\n",
      "Requirement already satisfied: tqdm in /ihome/pmayo/knoneman/.conda/envs/kilosort/lib/python3.10/site-packages (from kilosort) (4.66.2)\n",
      "Requirement already satisfied: numba in /ihome/pmayo/knoneman/.conda/envs/kilosort/lib/python3.10/site-packages (from kilosort) (0.59.1)\n",
      "Requirement already satisfied: faiss-cpu in /ihome/pmayo/knoneman/.local/lib/python3.10/site-packages (from kilosort) (1.8.0)\n",
      "Requirement already satisfied: llvmlite<0.43,>=0.42.0dev0 in /ihome/pmayo/knoneman/.conda/envs/kilosort/lib/python3.10/site-packages (from numba->kilosort) (0.42.0)\n",
      "Requirement already satisfied: joblib>=1.2.0 in /ihome/pmayo/knoneman/.conda/envs/kilosort/lib/python3.10/site-packages (from scikit-learn->kilosort) (1.4.2)\n",
      "Requirement already satisfied: threadpoolctl>=2.0.0 in /ihome/pmayo/knoneman/.conda/envs/kilosort/lib/python3.10/site-packages (from scikit-learn->kilosort) (3.5.0)\n"
     ]
    },
    {
     "name": "stderr",
     "output_type": "stream",
     "text": [
      "OMP: Warning #234: OMP_NUM_THREADS: Invalid symbols found. Check the value \"KMeans is known to have a memory leak on Windows with MKL\".\n"
     ]
    },
    {
     "name": "stdout",
     "output_type": "stream",
     "text": [
      "Collecting pandas\n",
      "  Downloading pandas-2.2.3-cp310-cp310-manylinux_2_17_x86_64.manylinux2014_x86_64.whl.metadata (89 kB)\n",
      "\u001b[2K     \u001b[90m━━━━━━━━━━━━━━━━━━━━━━━━━━━━━━━━━━━━━━━━\u001b[0m \u001b[32m89.9/89.9 kB\u001b[0m \u001b[31m1.6 MB/s\u001b[0m eta \u001b[36m0:00:00\u001b[0ma \u001b[36m0:00:01\u001b[0m\n",
      "Requirement already satisfied: numpy>=1.22.4 in /ihome/pmayo/knoneman/.conda/envs/kilosort/lib/python3.10/site-packages (from pandas) (1.26.4)\n",
      "Requirement already satisfied: python-dateutil>=2.8.2 in /ihome/pmayo/knoneman/.conda/envs/kilosort/lib/python3.10/site-packages (from pandas) (2.8.2)\n",
      "Requirement already satisfied: pytz>=2020.1 in /ihome/pmayo/knoneman/.conda/envs/kilosort/lib/python3.10/site-packages (from pandas) (2024.1)\n",
      "Requirement already satisfied: tzdata>=2022.7 in /ihome/pmayo/knoneman/.conda/envs/kilosort/lib/python3.10/site-packages (from pandas) (2023.3)\n",
      "Requirement already satisfied: six>=1.5 in /ihome/pmayo/knoneman/.conda/envs/kilosort/lib/python3.10/site-packages (from python-dateutil>=2.8.2->pandas) (1.16.0)\n",
      "Downloading pandas-2.2.3-cp310-cp310-manylinux_2_17_x86_64.manylinux2014_x86_64.whl (13.1 MB)\n",
      "\u001b[2K   \u001b[90m━━━━━━━━━━━━━━━━━━━━━━━━━━━━━━━━━━━━━━━━\u001b[0m \u001b[32m13.1/13.1 MB\u001b[0m \u001b[31m78.6 MB/s\u001b[0m eta \u001b[36m0:00:00\u001b[0m:00:01\u001b[0m0:01\u001b[0m\n",
      "Installing collected packages: pandas\n",
      "Successfully installed pandas-2.2.3\n"
     ]
    }
   ],
   "source": [
    "from pathlib import Path\n",
    "import shutil\n",
    "from tqdm import tqdm\n",
    "\n",
    "#from kilosort.io import load_probe\n",
    "from kilosort import run_kilosort, DEFAULT_SETTINGS\n",
    "\n",
    "SAVE_PATH = Path('/ix1/pmayo/OneDrive/DATA/kendra_scrappy_0097a/rfmp1.bin')\n",
    "\n",
    "!pip install kilosort\n",
    "!pip install pandas"
   ]
  },
  {
   "cell_type": "code",
   "execution_count": 13,
   "id": "09419f72-6776-4cfb-a3e0-8abeeec58980",
   "metadata": {},
   "outputs": [
    {
     "name": "stdout",
     "output_type": "stream",
     "text": [
      "{'chanMap': array([ 0,  1,  2,  3,  4,  5,  6,  7,  8,  9, 10, 11, 12, 13, 14, 15, 16,\n",
      "       17, 18, 19, 20, 21, 22, 23]), 'xc': array([5.5, 5.5, 5.5, 5.5, 5.5, 5.5, 5.5, 5.5, 5.5, 5.5, 5.5, 5.5, 5.5,\n",
      "       5.5, 5.5, 5.5, 5.5, 5.5, 5.5, 5.5, 5.5, 5.5, 5.5, 5.5]), 'yc': array([467.5, 447.5, 427.5, 407.5, 387.5, 367.5, 347.5, 327.5, 307.5,\n",
      "       287.5, 267.5, 247.5, 227.5, 207.5, 187.5, 167.5, 147.5, 127.5,\n",
      "       107.5,  87.5,  67.5,  47.5,  27.5,   7.5]), 'kcoords': array([0., 0., 0., 0., 0., 0., 0., 0., 0., 0., 0., 0., 0., 0., 0., 0., 0.,\n",
      "       0., 0., 0., 0., 0., 0., 0.]), 'n_chan': 24}\n"
     ]
    }
   ],
   "source": [
    "import numpy as np\n",
    "\n",
    "n_chan = 24\n",
    "chanMap = np.arange(n_chan)\n",
    "kcoords = np.zeros(n_chan)\n",
    "xc = np.ones(n_chan)*5.5\n",
    "yc = np.array([7.5 + 20*i for i in range(n_chan)])\n",
    "\n",
    "probe = {\n",
    "    'chanMap': chanMap,\n",
    "    'xc': xc,\n",
    "    'yc': yc[::-1],\n",
    "    'kcoords': kcoords,\n",
    "    'n_chan': n_chan\n",
    "}\n",
    "\n",
    "print(probe)"
   ]
  },
  {
   "cell_type": "code",
   "execution_count": 14,
   "id": "f26d3f07-471b-49f0-b7dc-d35279e0133b",
   "metadata": {},
   "outputs": [],
   "source": [
    "#probe = load_probe('/Users/kendranoneman/Projects/mayo/helperfunctions/mappings/probes/N19415.prb')\n",
    "\n",
    "settings = DEFAULT_SETTINGS\n",
    "settings['probe'] = probe\n",
    "settings['n_chan_bin'] = 24\n",
    "settings['fs'] = 30000\n",
    "settings['data_dir'] = SAVE_PATH.parent\n",
    "\n",
    "kilosort_path = SAVE_PATH.parent / 'kilosort4'\n",
    "temp_wh_path = SAVE_PATH.parent / 'temp_wh.dat'\n",
    "\n",
    "if kilosort_path.exists() and kilosort_path.is_dir():\n",
    "    shutil.rmtree(kilosort_path)\n",
    "\n",
    "if temp_wh_path.exists() and temp_wh_path.is_file():\n",
    "    temp_wh_path.unlink()    "
   ]
  },
  {
   "cell_type": "code",
   "execution_count": 15,
   "id": "f80c9e54-1a88-413e-8bd7-4947991337bf",
   "metadata": {},
   "outputs": [
    {
     "name": "stderr",
     "output_type": "stream",
     "text": [
      "kilosort.run_kilosort: Kilosort version 0.1.dev1164+gdfaaf6b.d20240502\n",
      "kilosort.run_kilosort: Python version 3.10.14\n",
      "kilosort.run_kilosort: ----------------------------------------\n",
      "kilosort.run_kilosort: System information:\n",
      "kilosort.run_kilosort: Linux-3.10.0-1160.71.1.el7.x86_64-x86_64-with-glibc2.17 x86_64\n",
      "kilosort.run_kilosort: x86_64\n",
      "kilosort.run_kilosort: Using GPU for PyTorch computations. Specify `device` to change this.\n",
      "kilosort.run_kilosort: Using CUDA device: NVIDIA A100-PCIE-40GB 39.38GB\n",
      "kilosort.run_kilosort: ----------------------------------------\n",
      "kilosort.run_kilosort: Sorting /ix1/pmayo/OneDrive/DATA/kendra_scrappy_0097a/rfmp1.bin\n",
      "kilosort.run_kilosort: Interpreting binary file as default dtype='int16'. If data was saved in a different format, specify `data_dtype`.\n",
      "kilosort.run_kilosort:  \n",
      "kilosort.run_kilosort: Computing preprocessing variables.\n",
      "kilosort.run_kilosort: ----------------------------------------\n",
      "kilosort.run_kilosort: N samples: 11433240\n",
      "kilosort.run_kilosort: N seconds: 381.108\n",
      "kilosort.run_kilosort: N batches: 191\n",
      "kilosort.run_kilosort: Preprocessing filters computed in  0.04s; total  0.04s\n",
      "kilosort.run_kilosort:  \n",
      "kilosort.run_kilosort: Resource usage after preprocessing\n",
      "kilosort.run_kilosort: ********************************************************\n",
      "kilosort.run_kilosort: CPU usage:     2.60 %\n",
      "kilosort.run_kilosort: Memory:        3.02 %     |     15.21   /   503.65 GB\n",
      "kilosort.run_kilosort: ------------------------------------------------------\n",
      "kilosort.run_kilosort: GPU usage:    `conda install pynvml` for GPU usage\n",
      "kilosort.run_kilosort: GPU memory:    1.95 %     |      0.77   /    39.38 GB\n",
      "kilosort.run_kilosort: Allocated:     0.19 %     |      0.07   /    39.38 GB\n",
      "kilosort.run_kilosort: Max alloc:     0.41 %     |      0.16   /    39.38 GB\n",
      "kilosort.run_kilosort: ********************************************************\n",
      "kilosort.run_kilosort:  \n",
      "kilosort.run_kilosort: Computing drift correction.\n",
      "kilosort.run_kilosort: ----------------------------------------\n",
      "kilosort.spikedetect: Re-computing universal templates from data.\n",
      "kilosort.spikedetect: Number of universal templates: 47\n",
      "kilosort.spikedetect: Detecting spikes...\n",
      "100%|██████████| 191/191 [00:02<00:00, 69.66it/s]\n",
      "kilosort.run_kilosort: drift computed in  3.01s; total  3.06s\n",
      "kilosort.run_kilosort:  \n",
      "kilosort.run_kilosort: Resource usage after drift correction\n",
      "kilosort.run_kilosort: ********************************************************\n",
      "kilosort.run_kilosort: CPU usage:     8.10 %\n",
      "kilosort.run_kilosort: Memory:        3.03 %     |     15.26   /   503.65 GB\n",
      "kilosort.run_kilosort: ------------------------------------------------------\n",
      "kilosort.run_kilosort: GPU usage:    `conda install pynvml` for GPU usage\n",
      "kilosort.run_kilosort: GPU memory:    2.01 %     |      0.79   /    39.38 GB\n",
      "kilosort.run_kilosort: Allocated:     0.19 %     |      0.07   /    39.38 GB\n",
      "kilosort.run_kilosort: Max alloc:     0.51 %     |      0.20   /    39.38 GB\n",
      "kilosort.run_kilosort: ********************************************************\n",
      "kilosort.run_kilosort:  \n",
      "kilosort.run_kilosort: Extracting spikes using templates\n",
      "kilosort.run_kilosort: ----------------------------------------\n",
      "kilosort.spikedetect: Re-computing universal templates from data.\n",
      "kilosort.spikedetect: Number of universal templates: 47\n",
      "kilosort.spikedetect: Detecting spikes...\n",
      "100%|██████████| 191/191 [00:02<00:00, 67.83it/s]\n",
      "kilosort.run_kilosort: 49158 spikes extracted in  2.92s; total  5.99s\n",
      "kilosort.run_kilosort:  \n",
      "kilosort.run_kilosort: First clustering\n",
      "kilosort.run_kilosort: ----------------------------------------\n",
      "100%|██████████| 1/1 [00:02<00:00,  2.73s/it]\n",
      "/ihome/pmayo/knoneman/Kilosort4/kilosort/template_matching.py:131: UserWarning: Plan failed with a cudnnException: CUDNN_BACKEND_EXECUTION_PLAN_DESCRIPTOR: cudnnFinalize Descriptor Failed cudnn_status: CUDNN_STATUS_NOT_SUPPORTED (Triggered internally at /opt/conda/conda-bld/pytorch_1712608839953/work/aten/src/ATen/native/cudnn/Conv_v8.cpp:919.)\n",
      "  X = conv1d(X.unsqueeze(1), ops['wTEMP'].unsqueeze(1), padding=ops['nt']//2)\n",
      "kilosort.run_kilosort: 63 clusters found, in  2.79s; total  8.78s\n",
      "kilosort.run_kilosort:  \n",
      "kilosort.run_kilosort: Extracting spikes using cluster waveforms\n",
      "kilosort.run_kilosort: ----------------------------------------\n",
      "100%|██████████| 191/191 [00:01<00:00, 122.62it/s]\n",
      "kilosort.run_kilosort: 97276 spikes extracted in  1.58s; total  10.36s\n",
      "kilosort.run_kilosort:  \n",
      "kilosort.run_kilosort: Resource usage after spike detection\n",
      "kilosort.run_kilosort: ********************************************************\n",
      "kilosort.run_kilosort: CPU usage:    22.20 %\n",
      "kilosort.run_kilosort: Memory:        3.05 %     |     15.34   /   503.65 GB\n",
      "kilosort.run_kilosort: ------------------------------------------------------\n",
      "kilosort.run_kilosort: GPU usage:    `conda install pynvml` for GPU usage\n",
      "kilosort.run_kilosort: GPU memory:    2.01 %     |      0.79   /    39.38 GB\n",
      "kilosort.run_kilosort: Allocated:     0.19 %     |      0.07   /    39.38 GB\n",
      "kilosort.run_kilosort: Max alloc:     0.51 %     |      0.20   /    39.38 GB\n",
      "kilosort.run_kilosort: ********************************************************\n",
      "kilosort.run_kilosort:  \n",
      "kilosort.run_kilosort: Final clustering\n",
      "kilosort.run_kilosort: ----------------------------------------\n",
      "100%|██████████| 1/1 [00:02<00:00,  2.88s/it]\n",
      "kilosort.run_kilosort: 57 clusters found, in  2.89s; total  13.25s\n",
      "kilosort.run_kilosort:  \n",
      "kilosort.run_kilosort: Merging clusters\n",
      "kilosort.run_kilosort: ----------------------------------------\n",
      "kilosort.run_kilosort: 57 units found, in  0.04s; total  13.29s\n",
      "kilosort.run_kilosort:  \n",
      "kilosort.run_kilosort: Resource usage after clustering\n",
      "kilosort.run_kilosort: ********************************************************\n",
      "kilosort.run_kilosort: CPU usage:    20.90 %\n",
      "kilosort.run_kilosort: Memory:        3.05 %     |     15.36   /   503.65 GB\n",
      "kilosort.run_kilosort: ------------------------------------------------------\n",
      "kilosort.run_kilosort: GPU usage:    `conda install pynvml` for GPU usage\n",
      "kilosort.run_kilosort: GPU memory:    2.01 %     |      0.79   /    39.38 GB\n",
      "kilosort.run_kilosort: Allocated:     0.19 %     |      0.07   /    39.38 GB\n",
      "kilosort.run_kilosort: Max alloc:     0.51 %     |      0.20   /    39.38 GB\n",
      "kilosort.run_kilosort: ********************************************************\n",
      "kilosort.run_kilosort:  \n",
      "kilosort.run_kilosort: Saving to phy and computing refractory periods\n",
      "kilosort.run_kilosort: ----------------------------------------\n",
      "kilosort.run_kilosort: 2 units found with good refractory periods\n",
      "kilosort.run_kilosort: Total runtime: 18.59s = 00:00:19 h:m:s\n",
      "kilosort.run_kilosort: Sorting output saved in: /ix1/pmayo/OneDrive/DATA/kendra_scrappy_0097a/kilosort4.\n",
      "kilosort.run_kilosort:  \n",
      "kilosort.run_kilosort: Resource usage after saving\n",
      "kilosort.run_kilosort: ********************************************************\n",
      "kilosort.run_kilosort: CPU usage:     5.10 %\n",
      "kilosort.run_kilosort: Memory:        3.05 %     |     15.37   /   503.65 GB\n",
      "kilosort.run_kilosort: ------------------------------------------------------\n",
      "kilosort.run_kilosort: GPU usage:    `conda install pynvml` for GPU usage\n",
      "kilosort.run_kilosort: GPU memory:    2.01 %     |      0.79   /    39.38 GB\n",
      "kilosort.run_kilosort: Allocated:     0.19 %     |      0.07   /    39.38 GB\n",
      "kilosort.run_kilosort: Max alloc:     0.51 %     |      0.20   /    39.38 GB\n",
      "kilosort.run_kilosort: ********************************************************\n"
     ]
    }
   ],
   "source": [
    "ops, st, clu, tF, Wall, similar_templates, is_ref, est_contam_rate, kept_spikes = \\\n",
    "    run_kilosort(settings=settings, probe=probe)"
   ]
  },
  {
   "cell_type": "code",
   "execution_count": 16,
   "id": "d6ea3a8f-5602-4df1-bdfe-ddb32bc9e007",
   "metadata": {},
   "outputs": [
    {
     "name": "stderr",
     "output_type": "stream",
     "text": [
      "kilosort.io :  \n",
      "kilosort.io : ========================================\n",
      "kilosort.io : Saving drift-corrected copy of data to: /ix1/pmayo/OneDrive/DATA/kendra_scrappy_0097a/temp_wh.dat...\n",
      "kilosort.io : Writing batch 0/191...\n",
      "kilosort.io : Writing batch 100/191...\n",
      "kilosort.io : ========================================\n",
      "kilosort.io : Copying finished.\n",
      "kilosort.io :  \n"
     ]
    }
   ],
   "source": [
    "from kilosort.io import save_preprocessing, load_ops\n",
    "\n",
    "# NOTE: This will only create the .dat file, it will *NOT* update options for Phy.\n",
    "#       If you want to use this with Phy, you will need to modify `params.py`\n",
    "#       in the results directory to point to this new file. Additionally,\n",
    "#       you must set `hp_filtered=True` and `dtype='int16'`.\n",
    "ops_path = SAVE_PATH.parent / 'kilosort4' / 'ops.npy'\n",
    "ops = load_ops(ops_path)\n",
    "save_preprocessing(SAVE_PATH.parent / 'temp_wh.dat', ops, bfile_path=SAVE_PATH)"
   ]
  },
  {
   "cell_type": "code",
   "execution_count": null,
   "id": "067cece1-82a3-49ec-b865-781109a68b81",
   "metadata": {},
   "outputs": [],
   "source": []
  },
  {
   "cell_type": "code",
   "execution_count": null,
   "id": "4f4eedf0-724a-4ab3-8578-6512ef5560d6",
   "metadata": {},
   "outputs": [],
   "source": []
  }
 ],
 "metadata": {
  "kernelspec": {
   "display_name": "Python 3 (ipykernel)",
   "language": "python",
   "name": "python3"
  },
  "language_info": {
   "codemirror_mode": {
    "name": "ipython",
    "version": 3
   },
   "file_extension": ".py",
   "mimetype": "text/x-python",
   "name": "python",
   "nbconvert_exporter": "python",
   "pygments_lexer": "ipython3",
   "version": "3.10.14"
  }
 },
 "nbformat": 4,
 "nbformat_minor": 5
}
